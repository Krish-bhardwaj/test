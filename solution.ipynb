{
 "cells": [
  {
   "cell_type": "code",
   "execution_count": 1,
   "metadata": {},
   "outputs": [],
   "source": [
    "# PIL - Python image liberary\n",
    "# pic\n",
    "# TASK >>> GRAYSCALE DETECTION\n",
    "# determine whether the input image is colored or grayscale.\n",
    "\n",
    "# Approach  ( Rough ): \n",
    "#     Calculate Pixel per variance , mean color bias adjustment\n",
    "    \n",
    "from PIL import Image, ImageStat\n",
    "def GRAYSCALE_DETECTION(path, size=500,colourbias=True, msecutoff=22 ):\n",
    "#     open image file \n",
    "    img = Image.open(path)\n",
    "#     get channel\n",
    "#     3 channel      4 channel (png type file)\n",
    "#     R = Red        R = Red     \n",
    "#     G = green      G = green\n",
    "#     B = blue       B = blue\n",
    "#                    A = alpha -> determines how opaque each pixel is\n",
    "    c = img.getbands()\n",
    "    if c == ('R','G','B') or c == ('R','G','B','A'):\n",
    "#         resize image to reduce complexity \n",
    "        stat_resize = img.resize((size,size))\n",
    "\n",
    "        SSE, bias = 0, [0,0,0]\n",
    "    \n",
    "        if colourbias:\n",
    "            bias = ImageStat.Stat(stat_resize).mean[:3]\n",
    "            bias = [b - sum(bias)/3 for b in bias ]\n",
    "            \n",
    "        for px in stat_resize.getdata():\n",
    "            mu = sum(px)/3\n",
    "            s = 0\n",
    "            for i in [0,1,2]:\n",
    "                SSE+=(px[i] - bias[i] - mu) ** 2\n",
    "\n",
    "#         mean square error\n",
    "        MSE = float(SSE)/(size*size)\n",
    "        \n",
    "        if MSE <= msecutoff:\n",
    "            return \"RESULT : GRAYSCALE\"\n",
    "\n",
    "        else:\n",
    "            return \"RESULT : COLOR\"\n",
    "    elif len(c)==1:\n",
    "        return \"RESULT : GRAYSCALE\"\n",
    "    else:\n",
    "        return \"ERROR : CAN'T IDENTIFY \"\n",
    "\n",
    "# add path of image to the function GRAYSCALE_DETECTION(<>) \n",
    "\n",
    "# print(GRAYSCALE_DETECTION(<path>))"
   ]
  },
  {
   "cell_type": "code",
   "execution_count": 2,
   "metadata": {},
   "outputs": [
    {
     "data": {
      "text/plain": [
       "('RESULT : GRAYSCALE',\n",
       " 'RESULT : GRAYSCALE',\n",
       " 'RESULT : GRAYSCALE',\n",
       " 'RESULT : GRAYSCALE',\n",
       " 'RESULT : GRAYSCALE',\n",
       " 'RESULT : GRAYSCALE',\n",
       " 'RESULT : GRAYSCALE',\n",
       " 'RESULT : GRAYSCALE',\n",
       " 'RESULT : GRAYSCALE',\n",
       " 'RESULT : GRAYSCALE',\n",
       " 'RESULT : GRAYSCALE',\n",
       " 'RESULT : GRAYSCALE',\n",
       " 'RESULT : GRAYSCALE',\n",
       " 'RESULT : GRAYSCALE',\n",
       " 'RESULT : GRAYSCALE',\n",
       " 'RESULT : GRAYSCALE',\n",
       " 'RESULT : GRAYSCALE',\n",
       " 'RESULT : GRAYSCALE')"
      ]
     },
     "execution_count": 2,
     "metadata": {},
     "output_type": "execute_result"
    }
   ],
   "source": [
    "print\n",
    "(\n",
    "GRAYSCALE_DETECTION(\"dataset/1.jpg\"),\n",
    "GRAYSCALE_DETECTION(\"dataset/2.jpg\"),\n",
    "GRAYSCALE_DETECTION(\"dataset/3.jpg\"),\n",
    "GRAYSCALE_DETECTION(\"dataset/4.jpg\"),\n",
    "GRAYSCALE_DETECTION(\"dataset/5.jpg\"),\n",
    "GRAYSCALE_DETECTION(\"dataset/6.jpg\"),\n",
    "GRAYSCALE_DETECTION(\"dataset/7.jpg\"),\n",
    "GRAYSCALE_DETECTION(\"dataset/8.jpg\"),\n",
    "GRAYSCALE_DETECTION(\"dataset/9.jpg\"),\n",
    "GRAYSCALE_DETECTION(\"dataset/11.jpg\"),\n",
    "GRAYSCALE_DETECTION(\"dataset/12.jpg\"),\n",
    "GRAYSCALE_DETECTION(\"dataset/13.jpg\"),\n",
    "GRAYSCALE_DETECTION(\"dataset/14.jpg\"),\n",
    "GRAYSCALE_DETECTION(\"dataset/15.jpg\"),\n",
    "GRAYSCALE_DETECTION(\"dataset/16.jpg\"),\n",
    "GRAYSCALE_DETECTION(\"dataset/17.jpg\"),\n",
    "GRAYSCALE_DETECTION(\"dataset/19.jpg\"),\n",
    "GRAYSCALE_DETECTION(\"dataset/20.jpg\"))"
   ]
  }
 ],
 "metadata": {
  "kernelspec": {
   "display_name": "Python 3",
   "language": "python",
   "name": "python3"
  },
  "language_info": {
   "codemirror_mode": {
    "name": "ipython",
    "version": 3
   },
   "file_extension": ".py",
   "mimetype": "text/x-python",
   "name": "python",
   "nbconvert_exporter": "python",
   "pygments_lexer": "ipython3",
   "version": "3.8.5"
  }
 },
 "nbformat": 4,
 "nbformat_minor": 4
}
